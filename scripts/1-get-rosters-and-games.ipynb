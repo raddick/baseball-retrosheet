{
 "cells": [
  {
   "cell_type": "code",
   "execution_count": 1,
   "id": "eb31408d",
   "metadata": {
    "_cell_guid": "b1076dfc-b9ad-4769-8c92-a6c4dae69d19",
    "_uuid": "8f2839f25d086af736a60e9eeb907d3b93b6e0e5",
    "execution": {
     "iopub.execute_input": "2023-02-22T20:25:40.330320Z",
     "iopub.status.busy": "2023-02-22T20:25:40.328489Z",
     "iopub.status.idle": "2023-02-22T20:25:40.343871Z",
     "shell.execute_reply": "2023-02-22T20:25:40.343058Z",
     "shell.execute_reply.started": "2023-02-22T20:22:20.745310Z"
    },
    "papermill": {
     "duration": 0.031503,
     "end_time": "2023-02-22T20:25:40.344054",
     "exception": false,
     "start_time": "2023-02-22T20:25:40.312551",
     "status": "completed"
    },
    "tags": []
   },
   "outputs": [
    {
     "name": "stdout",
     "output_type": "stream",
     "text": [
      "Packages loaded!\n"
     ]
    }
   ],
   "source": [
    "# This Python 3 environment comes with many helpful analytics libraries installed\n",
    "# It is defined by the kaggle/python Docker image: https://github.com/kaggle/docker-python\n",
    "# For example, here's several helpful packages to load\n",
    "\n",
    "import numpy as np # linear algebra\n",
    "import pandas # data processing, CSV file I/O (e.g. pd.read_csv)\n",
    "from pprint import pprint\n",
    "#import zipfile\n",
    "import time\n",
    "#import json\n",
    "import io\n",
    "from IPython.display import FileLink\n",
    "g = 0\n",
    "\n",
    "eventdir = '../input/baseball-events-from-retrosheetorg/events/'\n",
    "gamedir = '../input/baseball-events-from-retrosheetorg/games/'\n",
    "rosterdir = '../input/baseball-events-from-retrosheetorg/Rosters/'\n",
    "metadatadir = '../input/baseball-events-from-retrosheetorg/metadata/'\n",
    "\n",
    "# Input data files are available in the read-only \"../input/\" directory\n",
    "# For example, running this (by clicking run or pressing Shift+Enter) will list all files under the input directory\n",
    "\n",
    "#roster_columns_names = ['playerID', 'nameLast', 'nameFirst', 'batting_hand', 'throwing_hand', 'team', 'position']\n",
    "\n",
    "\n",
    "import os\n",
    "# for dirname, _, filenames in os.walk('/kaggle/input'):\n",
    "#     for filename in filenames:\n",
    "#         print(os.path.join(dirname, filename))\n",
    "print('Packages loaded!')\n",
    "# You can write up to 20GB to the current directory (/kaggle/working/) that gets preserved as output when you create a version using \"Save & Run All\" \n",
    "# You can also write temporary files to /kaggle/temp/, but they won't be saved outside of the current session\n"
   ]
  },
  {
   "cell_type": "markdown",
   "id": "081e439c",
   "metadata": {
    "papermill": {
     "duration": 0.008789,
     "end_time": "2023-02-22T20:25:40.362482",
     "exception": false,
     "start_time": "2023-02-22T20:25:40.353693",
     "status": "completed"
    },
    "tags": []
   },
   "source": [
    "# Read metadata\n",
    "\n",
    "Teams, ballparks, biographical data"
   ]
  },
  {
   "cell_type": "code",
   "execution_count": 2,
   "id": "4b058a1a",
   "metadata": {
    "execution": {
     "iopub.execute_input": "2023-02-22T20:25:40.398101Z",
     "iopub.status.busy": "2023-02-22T20:25:40.397331Z",
     "iopub.status.idle": "2023-02-22T20:25:41.090407Z",
     "shell.execute_reply": "2023-02-22T20:25:41.091079Z",
     "shell.execute_reply.started": "2023-02-22T20:22:22.797087Z"
    },
    "papermill": {
     "duration": 0.719704,
     "end_time": "2023-02-22T20:25:41.091267",
     "exception": false,
     "start_time": "2023-02-22T20:25:40.371563",
     "status": "completed"
    },
    "tags": []
   },
   "outputs": [
    {
     "name": "stdout",
     "output_type": "stream",
     "text": [
      "reading metadata...\n",
      "\tteams...\n",
      "\tnicknames...\n",
      "\tballparks...\n",
      "\tbiodata...\n",
      "Read 21,913 biographical data entries in 0.7 seconds!\n"
     ]
    }
   ],
   "source": [
    "s = time.time()\n",
    "print('reading metadata...')\n",
    "print('\\tteams...')\n",
    "teams_df = pandas.read_csv(metadatadir+'TEAMABR.TXT', index_col='teamID')\n",
    "\n",
    "print('\\tnicknames...')\n",
    "teams_nicknames_df = pandas.read_csv(metadatadir+'CurrentNames.csv')#, header=None)\n",
    "teams_nicknames_df.index.name = 'nicknameID'\n",
    "\n",
    "print('\\tballparks...')\n",
    "ballparks_df = pandas.read_csv(metadatadir+'parkcode.txt', index_col='PARKID')\n",
    "\n",
    "ballparks_df.loc[:, 'START'] = pandas.to_datetime(ballparks_df['START'], errors='coerce')\n",
    "ballparks_df.loc[:, 'END'] = pandas.to_datetime(ballparks_df['END'], errors='coerce')\n",
    "\n",
    "print('\\tbiodata...')\n",
    "biodata_df = pandas.read_csv(metadatadir+'BIOFILE.txt')\n",
    "\n",
    "biodata_df.columns = [x.replace(\"CEME \", \"CEMETERY \").replace(\" \", \"_\") for x in biodata_df.columns]\n",
    "biodata_df.columns = [x.lower() for x in biodata_df.columns]\n",
    "\n",
    "\n",
    "biodata_df = biodata_df.rename(columns = {'playerid': 'bioID', 'last': 'nameLast', 'first': 'nameFirstMiddle', 'play_debut': 'player_debut', 'play_lastgame': 'player_lastgame'})\n",
    "\n",
    "# # biodata_df.sample(1).T\n",
    "for thisdatecol in [x for x in biodata_df.columns if ('date' in x) or ('debut' in x) or ('lastgame' in x)]:\n",
    "    biodata_df.loc[:, thisdatecol] = pandas.to_datetime(biodata_df[thisdatecol], errors='coerce')\n",
    "biodata_df = biodata_df.assign(nameFirst = biodata_df['nameFirstMiddle'].apply(lambda x: str(x).split(' ')[0]))\n",
    "biodata_df = biodata_df.assign(nameMiddle = biodata_df[biodata_df['nameFirstMiddle'].apply(lambda x: str(x).find(\" \")) > -1]['nameFirstMiddle'].apply(lambda x: str(x).split(\" \")[1]))\n",
    "biodata_df.loc[:, 'nameMiddle'] = biodata_df['nameMiddle'].fillna('')\n",
    "\n",
    "biodata_df.loc[biodata_df['hof'] == 'HOF', 'hof'] = True\n",
    "biodata_df.loc[biodata_df['hof'] == 'NOT', 'hof'] = False\n",
    "biodata_df.loc[:, 'hof'] = biodata_df['hof'].astype('bool')\n",
    "\n",
    "biodata_df = biodata_df.assign(height_inches = biodata_df[(biodata_df['height'].notnull()) & (biodata_df['height'].apply(lambda x: len(str(x).split('-')) == 2))]['height'].apply(lambda x: float(str(x).split('-')[0])*12 + float(str(x).split('-')[1])))\n",
    "biodata_df = biodata_df.assign(is_player = np.nan)\n",
    "biodata_df.loc[biodata_df['player_debut'].notnull(), 'is_player'] = True\n",
    "biodata_df.loc[biodata_df['player_debut'].isnull(), 'is_player'] = False\n",
    "\n",
    "\n",
    "#print('fixing duplicate bioIDs...')\n",
    "#biodata_df.groupby('bioID').size().sort_values(ascending=False)\n",
    "\n",
    "biodata_df = biodata_df.set_index('bioID')\n",
    "biodata_df = biodata_df.sort_index()\n",
    "\n",
    "e = time.time()\n",
    "g += e-s\n",
    "\n",
    "print('Read {0:,.0f} biographical data entries in {1:.1f} seconds!'.format(len(biodata_df), e-s))"
   ]
  },
  {
   "cell_type": "code",
   "execution_count": 3,
   "id": "b47bcf06",
   "metadata": {
    "execution": {
     "iopub.execute_input": "2023-02-22T20:25:41.119420Z",
     "iopub.status.busy": "2023-02-22T20:25:41.118583Z",
     "iopub.status.idle": "2023-02-22T20:25:41.740711Z",
     "shell.execute_reply": "2023-02-22T20:25:41.741267Z",
     "shell.execute_reply.started": "2023-02-22T20:22:24.521929Z"
    },
    "papermill": {
     "duration": 0.640092,
     "end_time": "2023-02-22T20:25:41.741451",
     "exception": false,
     "start_time": "2023-02-22T20:25:41.101359",
     "status": "completed"
    },
    "tags": []
   },
   "outputs": [
    {
     "name": "stdout",
     "output_type": "stream",
     "text": [
      "saving output metadata...\n",
      "Read and saved:\n",
      "\t152 teams\n",
      "\t123 nicknames\n",
      "\t260 ballparks\n",
      "\t21,913 biographies\n",
      "in 0.6 seconds!\n"
     ]
    }
   ],
   "source": [
    "s = time.time()\n",
    "print('saving output metadata...')\n",
    "teams_df.to_csv('teams.csv', encoding='utf-8')\n",
    "teams_nicknames_df.to_csv('teams_nicknames.csv', encoding='utf-8')\n",
    "ballparks_df.to_csv('ballparks.csv', encoding='utf-8')\n",
    "biodata_df.to_csv('biodata.csv', encoding='utf-8')\n",
    "\n",
    "e = time.time()\n",
    "g += e-s\n",
    "\n",
    "print('Read and saved:')\n",
    "print('\\t{0:,.0f} teams'.format(len(teams_df)))\n",
    "print('\\t{0:,.0f} nicknames'.format(len(teams_nicknames_df)))\n",
    "print('\\t{0:,.0f} ballparks'.format(len(ballparks_df)))\n",
    "print('\\t{0:,.0f} biographies'.format(len(biodata_df)))\n",
    "print('in {0:,.1f} seconds!'.format(e-s))\n",
    "\n",
    "#teams_df\n",
    "#teams_df[teams_df['yearLast'].apply(lambda x: int(x) == np.nan)]#.dtypes\n",
    "#teams_df"
   ]
  },
  {
   "cell_type": "markdown",
   "id": "1dfbfde4",
   "metadata": {
    "papermill": {
     "duration": 0.010013,
     "end_time": "2023-02-22T20:25:41.762048",
     "exception": false,
     "start_time": "2023-02-22T20:25:41.752035",
     "status": "completed"
    },
    "tags": []
   },
   "source": [
    "# Parse roster data"
   ]
  },
  {
   "cell_type": "code",
   "execution_count": 4,
   "id": "99e0421a",
   "metadata": {
    "execution": {
     "iopub.execute_input": "2023-02-22T20:25:41.796221Z",
     "iopub.status.busy": "2023-02-22T20:25:41.795332Z",
     "iopub.status.idle": "2023-02-22T20:26:24.696243Z",
     "shell.execute_reply": "2023-02-22T20:26:24.695574Z",
     "shell.execute_reply.started": "2023-02-22T20:22:27.344870Z"
    },
    "papermill": {
     "duration": 42.924079,
     "end_time": "2023-02-22T20:26:24.696408",
     "exception": false,
     "start_time": "2023-02-22T20:25:41.772329",
     "status": "completed"
    },
    "tags": []
   },
   "outputs": [
    {
     "name": "stdout",
     "output_type": "stream",
     "text": [
      "Getting roster files...\n",
      "\tReading roster file 0 of 3,015...\n",
      "\tReading roster file 500 of 3,015...\n",
      "\tReading roster file 1,000 of 3,015...\n",
      "\tReading roster file 1,500 of 3,015...\n",
      "\tReading roster file 2,000 of 3,015...\n",
      "\tReading roster file 2,500 of 3,015...\n",
      "\tReading roster file 3,000 of 3,015...\n",
      "Deleting duplicate entry: chouf101/1914/BRF/OF...\n",
      "Saving output rosters...\n",
      "\n",
      "\n",
      "Saved 109,100 roster entries in 42.9 seconds!\n"
     ]
    }
   ],
   "source": [
    "s = time.time()\n",
    "print('Getting roster files...')\n",
    "rosters_df = pandas.DataFrame()\n",
    "roster_file_list = [rosterdir+x for x in os.listdir(rosterdir) if x[-4:] == '.ROS']\n",
    "\n",
    "\n",
    "for i in range(0,len(roster_file_list)):\n",
    "    if (np.mod(i, 500) == 0):\n",
    "        print('\\tReading roster file {0:,.0f} of {1:,.0f}...'.format(i, len(roster_file_list)))\n",
    "    rosters_i_df = pandas.read_csv(roster_file_list[i], header=None, encoding='utf-8')\n",
    "    rosters_i_df = rosters_i_df[:-1]  # remove stop character in last line of file\n",
    "    rosters_i_df = rosters_i_df.assign(theyear = int(roster_file_list[i].split('/')[-1][3:7]))\n",
    "    rosters_df = pandas.concat((rosters_df, rosters_i_df), axis=0)\n",
    "\n",
    "\n",
    "roster_column_list = ['playerID', 'nameLast', 'nameFirst', 'bats', 'throws', 'theteam', 'position', 'theyear']\n",
    "for j in range(0, len(rosters_df.columns[:-1])):\n",
    "     rosters_df = rosters_df.rename(columns={j: roster_column_list[j]})\n",
    "\n",
    "rosters_df = rosters_df.reset_index(drop=True)\n",
    "# ## Find duplicates\n",
    "#print(rosters_df.groupby(['playerID', 'theyear', 'theteam', 'position'], as_index=False).size().sort_values(by='size', ascending=False))\n",
    "## Likely duplicates: chouf101/1914/BRF\n",
    "print('Deleting duplicate entry: chouf101/1914/BRF/OF...')\n",
    "rosters_df = rosters_df.drop(rosters_df[(rosters_df['playerID'] == 'chouf101') & (rosters_df['theyear'] == 1914) & (rosters_df['theteam'] == 'BRF') & (rosters_df['position'] == 'OF')].head(1).index, axis=0)\n",
    "# ## Check that there are no more duplicates\n",
    "#print(rosters_df.groupby(['playerID', 'theyear', 'theteam', 'position'], as_index=False).size().sort_values(by='size', ascending=False))\n",
    "\n",
    "rosters_df = rosters_df.sort_values(by=['theyear', 'theteam', 'playerID', 'position'])\n",
    "rosters_df = rosters_df.reset_index(drop=True)\n",
    "rosters_df.index.name = 'rosterID'\n",
    "rosters_df\n",
    "\n",
    "print('Saving output rosters...')\n",
    "rosters_df.to_csv('rosters-orig.csv', encoding='utf-8')\n",
    "\n",
    "e = time.time()\n",
    "g += e-s\n",
    "print('\\n')\n",
    "print('Saved {0:,.0f} roster entries in {1:,.1f} seconds!'.format(len(rosters_df), e-s))\n",
    "#rosters_df[rosters_df['playerID'].apply(lambda x: len(x) == 1)]"
   ]
  },
  {
   "cell_type": "code",
   "execution_count": 5,
   "id": "6c39abdf",
   "metadata": {
    "execution": {
     "iopub.execute_input": "2023-02-22T20:26:24.728355Z",
     "iopub.status.busy": "2023-02-22T20:26:24.727553Z",
     "iopub.status.idle": "2023-02-22T20:26:24.731679Z",
     "shell.execute_reply": "2023-02-22T20:26:24.731009Z",
     "shell.execute_reply.started": "2023-02-22T19:53:06.722353Z"
    },
    "papermill": {
     "duration": 0.022415,
     "end_time": "2023-02-22T20:26:24.731837",
     "exception": false,
     "start_time": "2023-02-22T20:26:24.709422",
     "status": "completed"
    },
    "tags": []
   },
   "outputs": [],
   "source": [
    "#FileLink(r'rosters-orig.csv')"
   ]
  },
  {
   "cell_type": "markdown",
   "id": "a40b0a23",
   "metadata": {
    "papermill": {
     "duration": 0.012896,
     "end_time": "2023-02-22T20:26:24.759200",
     "exception": false,
     "start_time": "2023-02-22T20:26:24.746304",
     "status": "completed"
    },
    "tags": []
   },
   "source": [
    "# Get game data for use in events"
   ]
  },
  {
   "cell_type": "code",
   "execution_count": 6,
   "id": "7efecc54",
   "metadata": {
    "execution": {
     "iopub.execute_input": "2023-02-22T20:26:24.813110Z",
     "iopub.status.busy": "2023-02-22T20:26:24.812196Z",
     "iopub.status.idle": "2023-02-22T20:27:20.454185Z",
     "shell.execute_reply": "2023-02-22T20:27:20.453558Z",
     "shell.execute_reply.started": "2023-02-22T20:23:44.210193Z"
    },
    "papermill": {
     "duration": 55.681993,
     "end_time": "2023-02-22T20:27:20.454336",
     "exception": false,
     "start_time": "2023-02-22T20:26:24.772343",
     "status": "completed"
    },
    "tags": []
   },
   "outputs": [
    {
     "name": "stdout",
     "output_type": "stream",
     "text": [
      "Found 152 regular season gamefiles and 5 allstar/postseason files...\n",
      "Parsing games...\n",
      "\tParsing regular season game logs from 1880...\n",
      "\tParsing regular season game logs from 1900...\n",
      "\tParsing regular season game logs from 1920...\n",
      "\tParsing regular season game logs from 1940...\n",
      "\tParsing regular season game logs from 1960...\n",
      "\tParsing regular season game logs from 1980...\n",
      "\tParsing regular season game logs from 2000...\n",
      "\tParsing regular season game logs from 2020...\n",
      "\tParsing all-star games...\n",
      "\tParsing postseason games...\n",
      "Calculating gameID...\n",
      "Fixing data types...\n",
      "Saving games...\n",
      "\n",
      "Parsed and saved 228,146 game logs in 55 seconds!\n"
     ]
    },
    {
     "data": {
      "text/html": [
       "<div>\n",
       "<style scoped>\n",
       "    .dataframe tbody tr th:only-of-type {\n",
       "        vertical-align: middle;\n",
       "    }\n",
       "\n",
       "    .dataframe tbody tr th {\n",
       "        vertical-align: top;\n",
       "    }\n",
       "\n",
       "    .dataframe thead th {\n",
       "        text-align: right;\n",
       "    }\n",
       "</style>\n",
       "<table border=\"1\" class=\"dataframe\">\n",
       "  <thead>\n",
       "    <tr style=\"text-align: right;\">\n",
       "      <th>gameID</th>\n",
       "      <th>NYA195509290</th>\n",
       "      <th>MON197308220</th>\n",
       "      <th>OAK197806050</th>\n",
       "    </tr>\n",
       "  </thead>\n",
       "  <tbody>\n",
       "    <tr>\n",
       "      <th>date</th>\n",
       "      <td>1955-09-29 00:00:00</td>\n",
       "      <td>1973-08-22 00:00:00</td>\n",
       "      <td>1978-06-05 00:00:00</td>\n",
       "    </tr>\n",
       "    <tr>\n",
       "      <th>gameno</th>\n",
       "      <td>0</td>\n",
       "      <td>0</td>\n",
       "      <td>0</td>\n",
       "    </tr>\n",
       "    <tr>\n",
       "      <th>dayofweek</th>\n",
       "      <td>Thu</td>\n",
       "      <td>Wed</td>\n",
       "      <td>Mon</td>\n",
       "    </tr>\n",
       "    <tr>\n",
       "      <th>visitor</th>\n",
       "      <td>BRO</td>\n",
       "      <td>SFN</td>\n",
       "      <td>BOS</td>\n",
       "    </tr>\n",
       "    <tr>\n",
       "      <th>visitor_league</th>\n",
       "      <td>NL</td>\n",
       "      <td>NL</td>\n",
       "      <td>AL</td>\n",
       "    </tr>\n",
       "    <tr>\n",
       "      <th>...</th>\n",
       "      <td>...</td>\n",
       "      <td>...</td>\n",
       "      <td>...</td>\n",
       "    </tr>\n",
       "    <tr>\n",
       "      <th>home_batter9_id</th>\n",
       "      <td>byrnt101</td>\n",
       "      <td>roges001</td>\n",
       "      <td>edwam101</td>\n",
       "    </tr>\n",
       "    <tr>\n",
       "      <th>home_batter9_name</th>\n",
       "      <td>Tommy Byrne</td>\n",
       "      <td>Steve Rogers</td>\n",
       "      <td>Mike Edwards</td>\n",
       "    </tr>\n",
       "    <tr>\n",
       "      <th>home_batter9_pos</th>\n",
       "      <td>1.0</td>\n",
       "      <td>1.0</td>\n",
       "      <td>4.0</td>\n",
       "    </tr>\n",
       "    <tr>\n",
       "      <th>misc</th>\n",
       "      <td>NaN</td>\n",
       "      <td>NaN</td>\n",
       "      <td>NaN</td>\n",
       "    </tr>\n",
       "    <tr>\n",
       "      <th>acquisition</th>\n",
       "      <td>Y</td>\n",
       "      <td>Y</td>\n",
       "      <td>Y</td>\n",
       "    </tr>\n",
       "  </tbody>\n",
       "</table>\n",
       "<p>161 rows × 3 columns</p>\n",
       "</div>"
      ],
      "text/plain": [
       "gameID                    NYA195509290         MON197308220  \\\n",
       "date               1955-09-29 00:00:00  1973-08-22 00:00:00   \n",
       "gameno                               0                    0   \n",
       "dayofweek                          Thu                  Wed   \n",
       "visitor                            BRO                  SFN   \n",
       "visitor_league                      NL                   NL   \n",
       "...                                ...                  ...   \n",
       "home_batter9_id               byrnt101             roges001   \n",
       "home_batter9_name          Tommy Byrne         Steve Rogers   \n",
       "home_batter9_pos                   1.0                  1.0   \n",
       "misc                               NaN                  NaN   \n",
       "acquisition                          Y                    Y   \n",
       "\n",
       "gameID                    OAK197806050  \n",
       "date               1978-06-05 00:00:00  \n",
       "gameno                               0  \n",
       "dayofweek                          Mon  \n",
       "visitor                            BOS  \n",
       "visitor_league                      AL  \n",
       "...                                ...  \n",
       "home_batter9_id               edwam101  \n",
       "home_batter9_name         Mike Edwards  \n",
       "home_batter9_pos                   4.0  \n",
       "misc                               NaN  \n",
       "acquisition                          Y  \n",
       "\n",
       "[161 rows x 3 columns]"
      ]
     },
     "execution_count": 6,
     "metadata": {},
     "output_type": "execute_result"
    }
   ],
   "source": [
    "s = time.time()\n",
    "\n",
    "gamedata_df = pandas.DataFrame()\n",
    "\n",
    "gamedirs = sorted([gamedir+x+'/' for x in os.listdir(gamedir)])\n",
    "regularseasondir = [x for x in gamedirs if '']\n",
    "\n",
    "filenames = []\n",
    "\n",
    "for thisdir in gamedirs:\n",
    "    filenames += sorted([thisdir+x for x in os.listdir(thisdir)])\n",
    "# #filenames = sorted([gamedir+x for x in os.listdir(gamedir) if '1916' in x])\n",
    "\n",
    "allstarfiles = ['../input/baseball-events-from-retrosheetorg/games/glwc/glwc.txt']\n",
    "postfiles = [\n",
    "    '../input/baseball-events-from-retrosheetorg/games/glwc/glwc.txt',\n",
    "    '../input/baseball-events-from-retrosheetorg/games/gldv/gldv.txt', \n",
    "    '../input/baseball-events-from-retrosheetorg/games/gllc/gllc.txt',\n",
    "    '../input/baseball-events-from-retrosheetorg/games/glws/glws.txt'\n",
    "]\n",
    "rsfiles = [x for x in filenames if x[-8:-6] in ['18', '19', '20']]\n",
    "print('Found {0:,.0f} regular season gamefiles and {1:,.0f} allstar/postseason files...'.format(len(rsfiles), len(allstarfiles)+len(postfiles)))\n",
    "\n",
    "\n",
    "print('Parsing games...')\n",
    "for thisfile in rsfiles:\n",
    "    thisyear = int(thisfile[-8:-4])\n",
    "    if (np.mod(thisyear, 20) == 0):\n",
    "        print('\\tParsing regular season game logs from {0:.0f}...'.format(thisyear))\n",
    "    gamedata_df = pandas.concat((gamedata_df, pandas.read_csv(thisfile, header=None, converters={19: lambda x: str(x), 20: lambda x: str(x)})), axis=0)\n",
    "print('\\tParsing all-star games...')\n",
    "for thisfile in allstarfiles:\n",
    "    gamedata_df = pandas.concat((gamedata_df, pandas.read_csv(thisfile, header=None, converters={19: lambda x: str(x), 20: lambda x: str(x)})), axis=0)\n",
    "print('\\tParsing postseason games...')\n",
    "for thisfile in postfiles:\n",
    "    gamedata_df = pandas.concat((gamedata_df, pandas.read_csv(thisfile, header=None, converters={19: lambda x: str(x), 20: lambda x: str(x)})), axis=0)\n",
    "\n",
    "\n",
    "\n",
    "# Columns given at http://www.retrosheet.org/gamelogs/glfields.txt\n",
    "colnames = ['date','gameno','dayofweek']\n",
    "colnames += ['visitor','visitor_league','visitor_gameno']\n",
    "colnames += ['home','home_league','home_gameno']\n",
    "colnames += ['visitor_score','home_score']\n",
    "colnames += ['nOuts','day_night','completed','forfeit','protest','parkID','attendance','length']\n",
    "colnames += ['visitor_linescore','home_linescore']\n",
    "colnames += ['visitor_ab','visitor_h','visitor_2b','visitor_3b','visitor_hr']\n",
    "colnames += ['visitor_rbi','visitor_sac','visitor_sacfly','visitor_hbp']\n",
    "colnames += ['visitor_bb','visitor_ibb','visitor_k','visitor_sb','visitor_cs']\n",
    "colnames += ['visitor_gidp','visitor_ci','visitor_lob','visitor_nPitchers']\n",
    "colnames += ['visitor_er_ind','visitor_er_team','visitor_wp','visitor_balk']\n",
    "colnames += ['visitor_putout','visitor_assist','visitor_e','visitor_pb']\n",
    "colnames += ['visitor_dp','visitor_tp','home_ab','home_h','home_2b','home_3b']\n",
    "colnames += ['home_hr','home_rbi','home_sac','home_sacfly','home_hbp','home_bb']\n",
    "colnames += ['home_ibb','home_k','home_sb','home_cs','home_gidp','home_ci']\n",
    "colnames += ['home_lob','home_nPitchers','home_er_ind','home_er_team','home_wp']\n",
    "colnames += ['home_balk','home_putout','home_assist','home_e','home_pb']\n",
    "colnames += ['home_dp','home_tp']\n",
    "colnames += ['ump_home_id','ump_home_name','ump_1b_id']\n",
    "colnames += ['ump_1b_name','ump_2b_id','ump_2b_name','ump_3b_id','ump_3b_name']\n",
    "colnames += ['ump_lf_id','ump_lf_name','ump_rf_id','ump_rf_name']\n",
    "colnames += ['visitor_manager_id','visitor_manager_name','home_manager_id','home_manager_name']\n",
    "colnames += ['winning_pitcher_id','winning_pitcher_name','losing_pitcher_id']\n",
    "colnames += ['losing_pitcher_name','saving_pitcher_id','saving_pitcher_name']\n",
    "colnames += ['gw_rbi_batter_id','gw_rbi_batter_name','visitor_starting_pitcher_id']\n",
    "colnames += ['visitor_starting_pitcher_name','home_starting_pitcher_id']\n",
    "colnames += ['home_starting_pitcher_name']\n",
    "colnames += ['visitor_batter1_id','visitor_batter1_name','visitor_batter1_pos']\n",
    "colnames += ['visitor_batter2_id','visitor_batter2_name','visitor_batter2_pos']\n",
    "colnames += ['visitor_batter3_id','visitor_batter3_name','visitor_batter3_pos']\n",
    "colnames += ['visitor_batter4_id','visitor_batter4_name','visitor_batter4_pos']\n",
    "colnames += ['visitor_batter5_id','visitor_batter5_name','visitor_batter5_pos']\n",
    "colnames += ['visitor_batter6_id','visitor_batter6_name','visitor_batter6_pos']\n",
    "colnames += ['visitor_batter7_id','visitor_batter7_name','visitor_batter7_pos']\n",
    "colnames += ['visitor_batter8_id','visitor_batter8_name','visitor_batter8_pos']\n",
    "colnames += ['visitor_batter9_id','visitor_batter9_name','visitor_batter9_pos']\n",
    "colnames += ['home_batter1_id','home_batter1_name','home_batter1_pos']\n",
    "colnames += ['home_batter2_id','home_batter2_name','home_batter2_pos']\n",
    "colnames += ['home_batter3_id','home_batter3_name','home_batter3_pos']\n",
    "colnames += ['home_batter4_id','home_batter4_name','home_batter4_pos']\n",
    "colnames += ['home_batter5_id','home_batter5_name','home_batter5_pos']\n",
    "colnames += ['home_batter6_id','home_batter6_name','home_batter6_pos']\n",
    "colnames += ['home_batter7_id','home_batter7_name','home_batter7_pos']\n",
    "colnames += ['home_batter8_id','home_batter8_name','home_batter8_pos']\n",
    "colnames += ['home_batter9_id','home_batter9_name','home_batter9_pos']\n",
    "colnames += ['misc','acquisition']\n",
    "\n",
    "gamedata_df.columns = colnames\n",
    "\n",
    "print('Calculating gameID...')\n",
    "gamedata_df = gamedata_df.assign(gameID = gamedata_df.apply(lambda row: row['home']+str(row['date'])+str(row['gameno']), axis=1))\n",
    "\n",
    "print('Fixing data types...')\n",
    "gamedata_df['date'] = pandas.to_datetime(gamedata_df['date'], format='%Y%m%d', errors='coerce')\n",
    "gamedata_df['visitor_linescore'] = '\"'+gamedata_df['visitor_linescore'].astype('str')+'\"'\n",
    "gamedata_df['home_linescore'] = '\"'+gamedata_df['home_linescore'].astype('str')+'\"'\n",
    "gamedata_df.loc[gamedata_df['visitor_linescore'] == 'nan', 'visitor_linescore'] = 'n/a'\n",
    "gamedata_df.loc[gamedata_df['home_linescore'] == 'nan', 'home_linescore'] = 'n/a'\n",
    "\n",
    "gamedata_df = gamedata_df.set_index('gameID')\n",
    "\n",
    "print('Saving games...')\n",
    "gamedata_df.to_csv('games.csv', encoding='utf-8')\n",
    "\n",
    "e = time.time()\n",
    "print('\\nParsed and saved {0:,.0f} game logs in {1:,.0f} seconds!'.format(len(gamedata_df), e-s))\n",
    "    \n",
    "gamedata_df.sample(3).T\n",
    "# #gamedata_df.loc['BOS191604120'][['visitor_linescore', 'home_linescore']]#.dtypes\n",
    "# # #colnames[19:21]\n"
   ]
  },
  {
   "cell_type": "code",
   "execution_count": 7,
   "id": "1dbba903",
   "metadata": {
    "execution": {
     "iopub.execute_input": "2023-02-22T20:27:20.496963Z",
     "iopub.status.busy": "2023-02-22T20:27:20.496023Z",
     "iopub.status.idle": "2023-02-22T20:27:20.498968Z",
     "shell.execute_reply": "2023-02-22T20:27:20.498306Z",
     "shell.execute_reply.started": "2023-02-22T20:20:35.258641Z"
    },
    "papermill": {
     "duration": 0.025282,
     "end_time": "2023-02-22T20:27:20.499119",
     "exception": false,
     "start_time": "2023-02-22T20:27:20.473837",
     "status": "completed"
    },
    "tags": []
   },
   "outputs": [],
   "source": [
    "#FileLink(r'games.csv')"
   ]
  },
  {
   "cell_type": "code",
   "execution_count": null,
   "id": "ea6ce55f",
   "metadata": {
    "papermill": {
     "duration": 0.017809,
     "end_time": "2023-02-22T20:27:20.534783",
     "exception": false,
     "start_time": "2023-02-22T20:27:20.516974",
     "status": "completed"
    },
    "tags": []
   },
   "outputs": [],
   "source": []
  }
 ],
 "metadata": {
  "kernelspec": {
   "display_name": "Python 3",
   "language": "python",
   "name": "python3"
  },
  "language_info": {
   "codemirror_mode": {
    "name": "ipython",
    "version": 3
   },
   "file_extension": ".py",
   "mimetype": "text/x-python",
   "name": "python",
   "nbconvert_exporter": "python",
   "pygments_lexer": "ipython3",
   "version": "3.7.10"
  },
  "papermill": {
   "default_parameters": {},
   "duration": 109.81503,
   "end_time": "2023-02-22T20:27:21.363649",
   "environment_variables": {},
   "exception": null,
   "input_path": "__notebook__.ipynb",
   "output_path": "__notebook__.ipynb",
   "parameters": {},
   "start_time": "2023-02-22T20:25:31.548619",
   "version": "2.3.3"
  }
 },
 "nbformat": 4,
 "nbformat_minor": 5
}
